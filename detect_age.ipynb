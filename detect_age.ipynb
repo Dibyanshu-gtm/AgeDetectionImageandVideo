{
 "nbformat": 4,
 "nbformat_minor": 2,
 "metadata": {
  "language_info": {
   "name": "python",
   "codemirror_mode": {
    "name": "ipython",
    "version": 3
   },
   "version": "3.6.5-final"
  },
  "orig_nbformat": 2,
  "file_extension": ".py",
  "mimetype": "text/x-python",
  "name": "python",
  "npconvert_exporter": "python",
  "pygments_lexer": "ipython3",
  "version": 3,
  "kernelspec": {
   "name": "python37264bit438fe4ab1fef4bc7b511323f82d629a4",
   "display_name": "Python 3.7.2 64-bit"
  }
 },
 "cells": [
  {
   "cell_type": "code",
   "execution_count": 2,
   "metadata": {},
   "outputs": [],
   "source": [
    "import numpy as np\n",
    "import cv2\n",
    "import os"
   ]
  },
  {
   "cell_type": "code",
   "execution_count": 3,
   "metadata": {},
   "outputs": [],
   "source": [
    "AGE_BUCKETS = [\"(0-2)\", \"(4-6)\", \"(8-12)\", \"(15-20)\", \"(25-32)\",\n",
    "\t\"(38-43)\", \"(48-53)\", \"(60-100)\"]"
   ]
  },
  {
   "cell_type": "code",
   "execution_count": 4,
   "metadata": {},
   "outputs": [
    {
     "output_type": "stream",
     "name": "stdout",
     "text": "[INFO] loading face detector model...\n[INFO] loading age detector model...\n"
    }
   ],
   "source": [
    "print(\"[INFO] loading face detector model...\")\n",
    "prototxtPath = os.path.sep.join([\"face_detector\",\"deploy.prototxt\"])\n",
    "weightsPath = os.path.sep.join([\"face_detector\",\"res10_300x300_ssd_iter_140000.caffemodel\"])\n",
    "faceNet = cv2.dnn.readNet(prototxtPath, weightsPath)\n",
    "\n",
    "# load our serialized age detector model from disk\n",
    "print(\"[INFO] loading age detector model...\")\n",
    "prototxtPath = os.path.sep.join([\"age_detector\",\"age_deploy.prototxt\"])\n",
    "weightsPath = os.path.sep.join([\"age_detector\",\"age_net.caffemodel\"])\n",
    "ageNet = cv2.dnn.readNet(prototxtPath, weightsPath)"
   ]
  },
  {
   "cell_type": "code",
   "execution_count": 11,
   "metadata": {},
   "outputs": [],
   "source": [
    "image = cv2.imread(\"images//roa.jpg\")\n",
    "(h, w) = image.shape[:2]\n",
    "blob = cv2.dnn.blobFromImage(image, 1.0, (300, 300),\n",
    "\t(104.0, 177.0, 123.0))"
   ]
  },
  {
   "cell_type": "code",
   "execution_count": 12,
   "metadata": {},
   "outputs": [
    {
     "output_type": "stream",
     "name": "stdout",
     "text": "[INFO] computing face detections...\n"
    }
   ],
   "source": [
    "# pass the blob through the network and obtain the face detections\n",
    "print(\"[INFO] computing face detections...\")\n",
    "faceNet.setInput(blob)\n",
    "detections = faceNet.forward()\n",
    ""
   ]
  },
  {
   "cell_type": "code",
   "execution_count": 18,
   "metadata": {},
   "outputs": [
    {
     "output_type": "stream",
     "name": "stdout",
     "text": "[INFO] (25-32): 88.32%\n"
    }
   ],
   "source": [
    "for i in range(0, detections.shape[2]):\n",
    "\t# extract the confidence (i.e., probability) associated with the\n",
    "\t# prediction\n",
    "\tconfidence = detections[0, 0, i, 2]\n",
    "\n",
    "\t# filter out weak detections by ensuring the confidence is\n",
    "\t# greater than the minimum confidence\n",
    "\tif confidence > 0.5:\n",
    "\t\t# compute the (x, y)-coordinates of the bounding box for the\n",
    "\t\t# object\n",
    "\t\tbox = detections[0, 0, i, 3:7] * np.array([w, h, w, h])\n",
    "\t\t(startX, startY, endX, endY) = box.astype(\"int\")\n",
    "\n",
    "\t\t# extract the ROI of the face and then construct a blob from\n",
    "\t\t# *only* the face ROI\n",
    "\t\tface = image[startY:endY, startX:endX]\n",
    "\t\tfaceBlob = cv2.dnn.blobFromImage(face, 1.0, (227, 227),\n",
    "\t\t\t(78.4263377603, 87.7689143744, 114.895847746),\n",
    "\t\t\tswapRB=False)\n",
    "\n",
    "\t\t# make predictions on the age and find the age bucket with\n",
    "\t\t# the largest corresponding probability\n",
    "\t\tageNet.setInput(faceBlob)\n",
    "\t\tpreds = ageNet.forward()\n",
    "\t\ti = preds[0].argmax()\n",
    "\t\tage = AGE_BUCKETS[i]\n",
    "\t\tageConfidence = preds[0][i]\n",
    "\n",
    "\t\t# display the predicted age to our terminal\n",
    "\t\ttext = \"{}: {:.2f}%\".format(age, ageConfidence * 100)\n",
    "\t\tprint(\"[INFO] {}\".format(text))\n",
    "\n",
    "\t\t# draw the bounding box of the face along with the associated\n",
    "\t\t# predicted age\n",
    "\t\ty = startY - 10 if startY - 10 > 10 else startY + 10\n",
    "\t\tcv2.rectangle(image, (startX, startY), (endX, endY),\n",
    "\t\t\t(0, 0, 255), 2)\n",
    "\t\tcv2.putText(image, text, (startX, y),\n",
    "\t\t\tcv2.FONT_HERSHEY_SIMPLEX, 0.45, (0, 0, 255), 2)"
   ]
  },
  {
   "cell_type": "code",
   "execution_count": 19,
   "metadata": {},
   "outputs": [
    {
     "output_type": "execute_result",
     "data": {
      "text/plain": "-1"
     },
     "metadata": {},
     "execution_count": 19
    }
   ],
   "source": [
    "cv2.namedWindow(\"Image\", cv2.WINDOW_NORMAL)\n",
    "cv2.imshow(\"Image\", image)\n",
    "cv2.waitKey(0)"
   ]
  },
  {
   "cell_type": "code",
   "execution_count": null,
   "metadata": {},
   "outputs": [],
   "source": []
  }
 ]
}